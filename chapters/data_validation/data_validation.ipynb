{
 "nbformat": 4,
 "nbformat_minor": 0,
 "metadata": {
  "kernelspec": {
   "display_name": "Python 3.7.5 64-bit",
   "language": "python",
   "name": "python_defaultSpec_1599144816174"
  },
  "language_info": {
   "codemirror_mode": {
    "name": "ipython",
    "version": 3
   },
   "file_extension": ".py",
   "mimetype": "text/x-python",
   "name": "python",
   "nbconvert_exporter": "python",
   "pygments_lexer": "ipython3",
   "version": "3.7.5-final"
  },
  "colab": {
   "name": "data_validation.ipynb",
   "provenance": [],
   "collapsed_sections": []
  }
 },
 "cells": [
  {
   "cell_type": "markdown",
   "source": [
    "# Data Validation"
   ],
   "metadata": {
    "collapsed": false
   }
  },
  {
   "cell_type": "markdown",
   "source": [
    "## Setup\n",
    "\n",
    "### Install the package"
   ],
   "metadata": {
    "collapsed": false
   }
  },
  {
   "cell_type": "code",
   "execution_count": null,
   "outputs": [],
   "source": [
    "!pip install tensorflow-data-validation==0.27.0 requests==2.23.0"
   ],
   "metadata": {
    "collapsed": false,
    "pycharm": {
     "name": "#%%\n"
    }
   }
  },
  {
   "cell_type": "markdown",
   "source": [
    "### Import packages"
   ],
   "metadata": {
    "collapsed": false
   }
  },
  {
   "cell_type": "code",
   "execution_count": null,
   "outputs": [],
   "source": [
    "import logging\n",
    "\n",
    "import pandas as pd\n",
    "import tensorflow_data_validation as tfdv\n",
    "from tensorflow_data_validation.utils import slicing_util\n",
    "from tensorflow_metadata.proto.v0 import statistics_pb2"
   ],
   "metadata": {
    "collapsed": false,
    "pycharm": {
     "name": "#%%\n"
    }
   }
  },
  {
   "cell_type": "markdown",
   "source": [
    "## The dataset\n",
    "\n",
    "### Download the dataset"
   ],
   "metadata": {
    "collapsed": false
   }
  },
  {
   "cell_type": "code",
   "execution_count": null,
   "outputs": [],
   "source": [
    "!mkdir data"
   ],
   "metadata": {
    "collapsed": false,
    "pycharm": {
     "name": "#%%\n"
    }
   }
  },
  {
   "cell_type": "code",
   "execution_count": null,
   "outputs": [],
   "source": [
    "# Initial dataset source\n",
    "DATASET_URL = \"http://bit.ly/building-ml-pipelines-dataset\"\n",
    "# Initial local dataset location\n",
    "LOCAL_FILE_NAME = \"data/consumer_complaints_with_narrative.csv\"\n",
    "\n",
    "\n",
    "def download_dataset(url=DATASET_URL):\n",
    "    \"\"\"download_dataset downloads the remote dataset to a local path\n",
    "\n",
    "    Keyword Arguments:\n",
    "        url {string} --\n",
    "            complete url path to the csv data source (default: {DATASET_URL})\n",
    "        local_path {string} --\n",
    "            initial local file location (default: {LOCAL_FILE_NAME})\n",
    "    Returns:\n",
    "        None\n",
    "    \"\"\"\n",
    "    df = pd.read_csv(url, index_col=0)\n",
    "    df.to_csv(LOCAL_FILE_NAME)\n",
    "    logging.info(\"Download completed.\")\n",
    "\n",
    "\n",
    "download_dataset()"
   ],
   "metadata": {
    "collapsed": false,
    "pycharm": {
     "name": "#%%\n"
    }
   }
  },
  {
   "cell_type": "markdown",
   "source": [
    "### Load the dataset"
   ],
   "metadata": {
    "collapsed": false
   }
  },
  {
   "cell_type": "code",
   "execution_count": null,
   "outputs": [],
   "source": [
    "df = pd.read_csv(LOCAL_FILE_NAME)\n",
    "df.head()"
   ],
   "metadata": {
    "collapsed": false,
    "pycharm": {
     "name": "#%%\n"
    }
   }
  },
  {
   "cell_type": "markdown",
   "source": [
    "## Experiments\n",
    "\n",
    "### Generate statistics"
   ],
   "metadata": {
    "collapsed": false
   }
  },
  {
   "cell_type": "code",
   "execution_count": null,
   "outputs": [],
   "source": [
    "\n",
    "stats = tfdv.generate_statistics_from_csv(\n",
    "    data_location='data/consumer_complaints_with_narrative.csv',\n",
    "    delimiter=','\n",
    ")"
   ],
   "metadata": {
    "collapsed": false,
    "pycharm": {
     "name": "#%%\n"
    }
   }
  },
  {
   "cell_type": "code",
   "execution_count": null,
   "outputs": [],
   "source": [
    "stats"
   ],
   "metadata": {
    "collapsed": false,
    "pycharm": {
     "name": "#%%\n"
    }
   }
  },
  {
   "cell_type": "code",
   "execution_count": null,
   "outputs": [],
   "source": [
    "tfdv.visualize_statistics(stats)"
   ],
   "metadata": {
    "collapsed": false,
    "pycharm": {
     "name": "#%%\n"
    }
   }
  },
  {
   "cell_type": "markdown",
   "source": [
    "### Generate schema"
   ],
   "metadata": {
    "collapsed": false
   }
  },
  {
   "cell_type": "code",
   "execution_count": null,
   "outputs": [],
   "source": [
    "schema = tfdv.infer_schema(stats)"
   ],
   "metadata": {
    "collapsed": false,
    "pycharm": {
     "name": "#%%\n"
    }
   }
  },
  {
   "cell_type": "code",
   "execution_count": null,
   "outputs": [],
   "source": [
    "schema"
   ],
   "metadata": {
    "collapsed": false,
    "pycharm": {
     "name": "#%%\n"
    }
   }
  },
  {
   "cell_type": "code",
   "execution_count": null,
   "outputs": [],
   "source": [
    "tfdv.display_schema(schema)"
   ],
   "metadata": {
    "collapsed": false,
    "pycharm": {
     "name": "#%%\n"
    }
   }
  },
  {
   "cell_type": "markdown",
   "source": [
    "### Compare datasets"
   ],
   "metadata": {
    "collapsed": false
   }
  },
  {
   "cell_type": "code",
   "execution_count": null,
   "outputs": [],
   "source": [
    "!mkdir -p chapters/data_validation"
   ],
   "metadata": {
    "collapsed": false,
    "pycharm": {
     "name": "#%%\n"
    }
   }
  },
  {
   "cell_type": "code",
   "execution_count": null,
   "outputs": [],
   "source": [
    "df.iloc[5000:].to_csv('chapters/data_validation/dataset_1.csv', index=False)\n",
    "df.iloc[:5000].to_csv('chapters/data_validation/dataset_2.csv', index=False)"
   ],
   "metadata": {
    "collapsed": false,
    "pycharm": {
     "name": "#%%\n"
    }
   }
  },
  {
   "cell_type": "code",
   "execution_count": null,
   "outputs": [],
   "source": [
    "!wc -l data/consumer_complaints_with_narrative.csv\n",
    "!wc -l chapters/data_validation/dataset_1.csv\n",
    "!wc -l chapters/data_validation/dataset_2.csv"
   ],
   "metadata": {
    "collapsed": false,
    "pycharm": {
     "name": "#%%\n"
    }
   }
  },
  {
   "cell_type": "code",
   "execution_count": null,
   "outputs": [],
   "source": [
    "train_stats = tfdv.generate_statistics_from_csv(\n",
    "    data_location='chapters/data_validation/dataset_1.csv',\n",
    "    delimiter=','\n",
    ")\n",
    "val_stats = tfdv.generate_statistics_from_csv(\n",
    "    data_location='chapters/data_validation/dataset_2.csv',\n",
    "    delimiter=','\n",
    ")\n",
    "\n",
    "tfdv.visualize_statistics(\n",
    "    lhs_statistics=val_stats,\n",
    "    rhs_statistics=train_stats,\n",
    "    lhs_name='VAL_DATASET',\n",
    "    rhs_name='TRAIN_DATASET'\n",
    ")"
   ],
   "metadata": {
    "collapsed": false,
    "pycharm": {
     "name": "#%%\n"
    }
   }
  },
  {
   "cell_type": "code",
   "execution_count": null,
   "outputs": [],
   "source": [
    "anomalies = tfdv.validate_statistics(statistics=val_stats, schema=schema)"
   ],
   "metadata": {
    "collapsed": false,
    "pycharm": {
     "name": "#%%\n"
    }
   }
  },
  {
   "cell_type": "code",
   "execution_count": null,
   "outputs": [],
   "source": [
    "tfdv.display_anomalies(anomalies)"
   ],
   "metadata": {
    "collapsed": false,
    "pycharm": {
     "name": "#%%\n"
    }
   }
  },
  {
   "cell_type": "code",
   "execution_count": null,
   "outputs": [],
   "source": [
    "anomalies"
   ],
   "metadata": {
    "collapsed": false,
    "pycharm": {
     "name": "#%%\n"
    }
   }
  },
  {
   "cell_type": "markdown",
   "source": [
    "### Skew and Drift"
   ],
   "metadata": {
    "collapsed": false
   }
  },
  {
   "cell_type": "code",
   "execution_count": null,
   "outputs": [],
   "source": [
    "tfdv.get_feature(schema, 'company').skew_comparator.infinity_norm.threshold = 0.01\n",
    "skew_anomalies = tfdv.validate_statistics(\n",
    "    statistics=train_stats,\n",
    "    schema=schema,\n",
    "    serving_statistics=val_stats\n",
    ")"
   ],
   "metadata": {
    "collapsed": false,
    "pycharm": {
     "name": "#%%\n"
    }
   }
  },
  {
   "cell_type": "code",
   "execution_count": null,
   "outputs": [],
   "source": [
    "tfdv.display_anomalies(skew_anomalies)"
   ],
   "metadata": {
    "collapsed": false,
    "pycharm": {
     "name": "#%%\n"
    }
   }
  },
  {
   "cell_type": "code",
   "execution_count": null,
   "outputs": [],
   "source": [
    "# Change the threshold to show anomaly\n",
    "tfdv.get_feature(schema, 'company').skew_comparator.infinity_norm.threshold = 0.005\n",
    "skew_anomalies = tfdv.validate_statistics(\n",
    "    statistics=train_stats,\n",
    "    schema=schema,\n",
    "    serving_statistics=val_stats\n",
    ")"
   ],
   "metadata": {
    "collapsed": false,
    "pycharm": {
     "name": "#%%\n"
    }
   }
  },
  {
   "cell_type": "code",
   "execution_count": null,
   "outputs": [],
   "source": [
    "tfdv.display_anomalies(skew_anomalies)"
   ],
   "metadata": {
    "collapsed": false,
    "pycharm": {
     "name": "#%%\n"
    }
   }
  },
  {
   "cell_type": "code",
   "execution_count": null,
   "outputs": [],
   "source": [
    "tfdv.get_feature(schema, 'company').drift_comparator.infinity_norm.threshold = 0.01\n",
    "drift_anomalies = tfdv.validate_statistics(\n",
    "    statistics=train_stats,\n",
    "    schema=schema,\n",
    "    previous_statistics=val_stats\n",
    ")"
   ],
   "metadata": {
    "collapsed": false,
    "pycharm": {
     "name": "#%%\n"
    }
   }
  },
  {
   "cell_type": "code",
   "execution_count": null,
   "outputs": [],
   "source": [
    "tfdv.display_anomalies(drift_anomalies)"
   ],
   "metadata": {
    "collapsed": false,
    "pycharm": {
     "name": "#%%\n"
    }
   }
  },
  {
   "cell_type": "code",
   "execution_count": null,
   "outputs": [],
   "source": [
    "# Change the threshold to show anomaly\n",
    "tfdv.get_feature(schema, 'company').drift_comparator.infinity_norm.threshold = 0.005\n",
    "drift_anomalies = tfdv.validate_statistics(\n",
    "    statistics=train_stats,\n",
    "    schema=schema,\n",
    "    previous_statistics=val_stats\n",
    ")"
   ],
   "metadata": {
    "collapsed": false,
    "pycharm": {
     "name": "#%%\n"
    }
   }
  },
  {
   "cell_type": "code",
   "execution_count": null,
   "outputs": [],
   "source": [
    "tfdv.display_anomalies(drift_anomalies)"
   ],
   "metadata": {
    "collapsed": false,
    "pycharm": {
     "name": "#%%\n"
    }
   }
  },
  {
   "cell_type": "markdown",
   "source": [
    "### Slice the dataset"
   ],
   "metadata": {
    "collapsed": false
   }
  },
  {
   "cell_type": "code",
   "execution_count": null,
   "outputs": [],
   "source": [
    "slice_fn1 = slicing_util.get_feature_value_slicer(\n",
    "    features={'state': [b'CA']}\n",
    ")\n",
    "slice_options = tfdv.StatsOptions(slice_functions=[slice_fn1])\n",
    "slice_stats = tfdv.generate_statistics_from_csv(\n",
    "    data_location='data/consumer_complaints_with_narrative.csv',\n",
    "    stats_options=slice_options\n",
    ")"
   ],
   "metadata": {
    "collapsed": false,
    "pycharm": {
     "name": "#%%\n"
    }
   }
  },
  {
   "cell_type": "code",
   "execution_count": null,
   "outputs": [],
   "source": [
    "def display_slice_keys(stats):\n",
    "    print(list(map(lambda x: x.name, slice_stats.datasets)))\n",
    "\n",
    "\n",
    "def get_sliced_stats(stats, slice_key):\n",
    "    for sliced_stats in stats.datasets:\n",
    "        if sliced_stats.name == slice_key:\n",
    "            result = statistics_pb2.DatasetFeatureStatisticsList()\n",
    "            result.datasets.add().CopyFrom(sliced_stats)\n",
    "            return result\n",
    "    print('Invalid Slice key')\n",
    "\n",
    "\n",
    "def compare_slices(stats, slice_key1, slice_key2):\n",
    "    lhs_stats = get_sliced_stats(stats, slice_key1)\n",
    "    rhs_stats = get_sliced_stats(stats, slice_key2)\n",
    "    tfdv.visualize_statistics(lhs_stats, rhs_stats)"
   ],
   "metadata": {
    "collapsed": false,
    "pycharm": {
     "name": "#%%\n"
    }
   }
  },
  {
   "cell_type": "code",
   "execution_count": null,
   "outputs": [],
   "source": [
    "tfdv.visualize_statistics(get_sliced_stats(slice_stats, 'state_CA'))"
   ],
   "metadata": {
    "collapsed": false,
    "pycharm": {
     "name": "#%%\n"
    }
   }
  },
  {
   "cell_type": "code",
   "execution_count": null,
   "outputs": [],
   "source": [
    "compare_slices(slice_stats, 'state_CA', 'All Examples')"
   ],
   "metadata": {
    "collapsed": false,
    "pycharm": {
     "name": "#%%\n"
    }
   }
  },
  {
   "cell_type": "code",
   "execution_count": null,
   "outputs": [],
   "source": [],
   "metadata": {
    "collapsed": false,
    "pycharm": {
     "name": "#%%\n"
    }
   }
  }
 ]
}