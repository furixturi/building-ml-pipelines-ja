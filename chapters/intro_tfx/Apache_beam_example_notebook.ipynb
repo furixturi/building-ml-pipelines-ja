{
 "nbformat": 4,
 "nbformat_minor": 0,
 "metadata": {
  "colab": {
   "name": "Apache_beam_example_notebook.ipynb",
   "provenance": [],
   "collapsed_sections": [],
   "toc_visible": true
  },
  "kernelspec": {
   "name": "python3",
   "display_name": "Python 3"
  }
 },
 "cells": [
  {
   "cell_type": "markdown",
   "metadata": {
    "id": "oKvOFVJLu3tf"
   },
   "source": [
    "# Apache Beam Word Count Example\n",
    "\n",
    "The example is adopted from https://beam.apache.org/get-started/wordcount-example/ for Google Colab\n",
    "\n",
    "[![Open In Colab](https://colab.research.google.com/assets/colab-badge.svg)](https://github.com/Building-ML-Pipelines/building-machine-learning-pipelines/blob/master/chapters/intro_tfx/Apache_beam_example_notebook.ipynb)\n"
   ]
  },
  {
   "cell_type": "code",
   "metadata": {
    "id": "rAh3av_ovF2y",
    "colab": {
     "base_uri": "https://localhost:8080/"
    },
    "outputId": "670d155a-e6ae-40bd-dda5-cdf966a06e33"
   },
   "source": [
    "!pip install google-cloud-core==1.6.0 apache_beam[gcp]==2.28.0"
   ],
   "execution_count": 1,
   "outputs": [
    {
     "output_type": "stream",
     "text": [
      "\u001B[K     |████████████████████████████████| 9.0MB 5.7MB/s \n",
      "\u001B[K     |████████████████████████████████| 17.7MB 206kB/s \n",
      "\u001B[K     |████████████████████████████████| 2.2MB 44.3MB/s \n",
      "\u001B[K     |████████████████████████████████| 829kB 38.4MB/s \n",
      "\u001B[K     |████████████████████████████████| 61kB 6.5MB/s \n",
      "\u001B[K     |████████████████████████████████| 61kB 6.8MB/s \n",
      "\u001B[K     |████████████████████████████████| 153kB 48.1MB/s \n",
      "\u001B[K     |████████████████████████████████| 174kB 45.9MB/s \n",
      "\u001B[K     |████████████████████████████████| 174kB 50.1MB/s \n",
      "\u001B[K     |████████████████████████████████| 92kB 9.5MB/s \n",
      "\u001B[K     |████████████████████████████████| 153kB 49.5MB/s \n",
      "\u001B[K     |████████████████████████████████| 184kB 40.6MB/s \n",
      "\u001B[K     |████████████████████████████████| 256kB 52.3MB/s \n",
      "\u001B[K     |████████████████████████████████| 71kB 8.2MB/s \n",
      "\u001B[K     |████████████████████████████████| 440kB 44.2MB/s \n",
      "\u001B[K     |████████████████████████████████| 276kB 46.5MB/s \n",
      "\u001B[K     |████████████████████████████████| 112kB 58.6MB/s \n",
      "\u001B[K     |████████████████████████████████| 51kB 5.4MB/s \n",
      "\u001B[K     |████████████████████████████████| 512kB 38.3MB/s \n",
      "\u001B[K     |████████████████████████████████| 645kB 31.2MB/s \n",
      "\u001B[?25h  Building wheel for future (setup.py) ... \u001B[?25l\u001B[?25hdone\n",
      "  Building wheel for dill (setup.py) ... \u001B[?25l\u001B[?25hdone\n",
      "  Building wheel for avro-python3 (setup.py) ... \u001B[?25l\u001B[?25hdone\n",
      "  Building wheel for google-apitools (setup.py) ... \u001B[?25l\u001B[?25hdone\n",
      "  Building wheel for grpc-google-iam-v1 (setup.py) ... \u001B[?25l\u001B[?25hdone\n",
      "\u001B[31mERROR: multiprocess 0.70.11.1 has requirement dill>=0.3.3, but you'll have dill 0.3.1.1 which is incompatible.\u001B[0m\n",
      "\u001B[31mERROR: google-colab 1.0.0 has requirement requests~=2.23.0, but you'll have requests 2.25.1 which is incompatible.\u001B[0m\n",
      "\u001B[31mERROR: datascience 0.10.6 has requirement folium==0.2.1, but you'll have folium 0.8.3 which is incompatible.\u001B[0m\n",
      "\u001B[31mERROR: google-cloud-spanner 1.19.1 has requirement google-cloud-core<2.0dev,>=1.4.1, but you'll have google-cloud-core 1.0.3 which is incompatible.\u001B[0m\n",
      "\u001B[31mERROR: google-cloud-bigtable 1.7.0 has requirement google-cloud-core<2.0dev,>=1.4.1, but you'll have google-cloud-core 1.0.3 which is incompatible.\u001B[0m\n"
     ],
     "name": "stdout"
    }
   ]
  },
  {
   "cell_type": "code",
   "metadata": {
    "id": "m9BExktyu2yM",
    "colab": {
     "base_uri": "https://localhost:8080/",
     "height": 105
    },
    "outputId": "74cd16cb-83ca-4d8c-d76b-08c886b0c6d3"
   },
   "source": [
    "import re\n",
    "\n",
    "import apache_beam as beam\n",
    "from apache_beam.io import ReadFromText\n",
    "from apache_beam.io import WriteToText\n",
    "from apache_beam.options.pipeline_options import PipelineOptions\n",
    "from apache_beam.options.pipeline_options import SetupOptions\n",
    "\n",
    "input_file = \"gs://dataflow-samples/shakespeare/kinglear.txt\"\n",
    "output_file = \"/content/output.txt\"\n",
    "\n",
    "# TODO explain these lines\n",
    "pipeline_options = PipelineOptions()\n",
    "# pipeline_options.view_as(SetupOptions).save_main_session = True\n",
    "\n",
    "with beam.Pipeline(options=pipeline_options) as p:\n",
    "\n",
    "    # Read the text file[pattern] into a PCollection.\n",
    "    lines = p | ReadFromText(input_file)\n",
    "\n",
    "    # Count the occurrences of each word.\n",
    "    counts = (\n",
    "        lines\n",
    "        | 'Split' >> (beam.FlatMap(lambda x: re.findall(r'[A-Za-z\\']+', x)))\n",
    "                      # .with_output_types(unicode))\n",
    "        | 'PairWithOne' >> beam.Map(lambda x: (x, 1))\n",
    "        | 'GroupAndSum' >> beam.CombinePerKey(sum))\n",
    "\n",
    "    # Format the counts into a PCollection of strings.\n",
    "    def format_result(word_count):\n",
    "        (word, count) = word_count\n",
    "        return '%s: %s' % (word, count)\n",
    "\n",
    "    output = counts | 'Format' >> beam.Map(format_result)\n",
    "\n",
    "    # Write the output using a \"Write\" transform that has side effects.\n",
    "    output | WriteToText(output_file)"
   ],
   "execution_count": 1,
   "outputs": [
    {
     "output_type": "stream",
     "text": [
      "WARNING:apache_beam.internal.gcp.auth:Unable to find default credentials to use: The Application Default Credentials are not available. They are available if running in Google Compute Engine. Otherwise, the environment variable GOOGLE_APPLICATION_CREDENTIALS must be defined pointing to a file defining the credentials. See https://developers.google.com/accounts/docs/application-default-credentials for more information.\n",
      "Connecting anonymously.\n",
      "WARNING:apache_beam.runners.interactive.interactive_environment:Dependencies required for Interactive Beam PCollection visualization are not available, please use: `pip install apache-beam[interactive]` to install necessary dependencies to enable all data visualization features.\n"
     ],
     "name": "stderr"
    },
    {
     "output_type": "display_data",
     "data": {
      "application/javascript": [
       "\n",
       "        if (typeof window.interactive_beam_jquery == 'undefined') {\n",
       "          var jqueryScript = document.createElement('script');\n",
       "          jqueryScript.src = 'https://code.jquery.com/jquery-3.4.1.slim.min.js';\n",
       "          jqueryScript.type = 'text/javascript';\n",
       "          jqueryScript.onload = function() {\n",
       "            var datatableScript = document.createElement('script');\n",
       "            datatableScript.src = 'https://cdn.datatables.net/1.10.20/js/jquery.dataTables.min.js';\n",
       "            datatableScript.type = 'text/javascript';\n",
       "            datatableScript.onload = function() {\n",
       "              window.interactive_beam_jquery = jQuery.noConflict(true);\n",
       "              window.interactive_beam_jquery(document).ready(function($){\n",
       "                \n",
       "              });\n",
       "            }\n",
       "            document.head.appendChild(datatableScript);\n",
       "          };\n",
       "          document.head.appendChild(jqueryScript);\n",
       "        } else {\n",
       "          window.interactive_beam_jquery(document).ready(function($){\n",
       "            \n",
       "          });\n",
       "        }"
      ]
     },
     "metadata": {
      "tags": []
     }
    },
    {
     "output_type": "stream",
     "text": [
      "WARNING:apache_beam.options.pipeline_options:Discarding unparseable args: ['-f', '/root/.local/share/jupyter/runtime/kernel-f4bafc11-96b9-4471-b16c-33e0e5934d34.json']\n"
     ],
     "name": "stderr"
    }
   ]
  },
  {
   "cell_type": "code",
   "metadata": {
    "id": "-xbljzhfvJVH",
    "colab": {
     "base_uri": "https://localhost:8080/"
    },
    "outputId": "7bce05ec-daa2-44af-d721-27f3d491a5f6"
   },
   "source": [
    "!head /content/output.txt*"
   ],
   "execution_count": 2,
   "outputs": [
    {
     "output_type": "stream",
     "text": [
      "KING: 243\n",
      "LEAR: 236\n",
      "DRAMATIS: 1\n",
      "PERSONAE: 1\n",
      "king: 65\n",
      "of: 447\n",
      "Britain: 2\n",
      "OF: 15\n",
      "FRANCE: 10\n",
      "DUKE: 3\n"
     ],
     "name": "stdout"
    }
   ]
  },
  {
   "cell_type": "code",
   "metadata": {
    "id": "KtSgXXKXa-ky"
   },
   "source": [
    ""
   ],
   "execution_count": null,
   "outputs": []
  }
 ]
}